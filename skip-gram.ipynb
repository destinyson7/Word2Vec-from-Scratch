{
  "nbformat": 4,
  "nbformat_minor": 0,
  "metadata": {
    "colab": {
      "name": "skipgram.ipynb",
      "provenance": []
    },
    "kernelspec": {
      "name": "python3",
      "display_name": "Python 3"
    }
  },
  "cells": [
    {
      "cell_type": "code",
      "metadata": {
        "id": "3-sZlZu9FQmT",
        "colab_type": "code",
        "colab": {}
      },
      "source": [
        "import numpy as np\n",
        "import re\n",
        "from scipy.special import expit as sigmoid\n",
        "import random"
      ],
      "execution_count": 3,
      "outputs": []
    },
    {
      "cell_type": "code",
      "metadata": {
        "id": "-SJl16z1FSHq",
        "colab_type": "code",
        "colab": {}
      },
      "source": [
        "!wget http://snap.stanford.edu/data/amazon/productGraph/categoryFiles/reviews_Electronics_5.json.gz"
      ],
      "execution_count": null,
      "outputs": []
    },
    {
      "cell_type": "code",
      "metadata": {
        "id": "j8dXCFHmFTfF",
        "colab_type": "code",
        "colab": {}
      },
      "source": [
        "import json\n",
        "import gzip\n",
        "\n",
        "filename = 'reviews_Electronics_5.json.gz' \n",
        "json_content = []\n",
        "with gzip.open(filename , 'rb') as gzip_file:\n",
        "    for line in gzip_file:  # Read one line.\n",
        "\n",
        "        line = line.rstrip()\n",
        "        if line:  # Any JSON data on it?\n",
        "            obj = json.loads(line)\n",
        "\n",
        "            json_content.append(obj['reviewText'])\n",
        "            \n",
        "            if len(json_content) == 50000:\n",
        "                break\n",
        "\n",
        "# print(json.dumps(json_content, indent=4))"
      ],
      "execution_count": null,
      "outputs": []
    },
    {
      "cell_type": "code",
      "metadata": {
        "id": "08qv5ANPFbIr",
        "colab_type": "code",
        "colab": {}
      },
      "source": [
        "# def tokenize(data):\n",
        "#     return re.split(r\"[^A-Za-z0-9]+\", data)"
      ],
      "execution_count": 4,
      "outputs": []
    },
    {
      "cell_type": "code",
      "metadata": {
        "id": "O4hlTr83MYiS",
        "colab_type": "code",
        "colab": {
          "base_uri": "https://localhost:8080/",
          "height": 35
        },
        "outputId": "ba0bc856-1841-4bcd-fd86-11465ae4f8b6"
      },
      "source": [
        "# s = \"my name is $jdbkgs!@#$%^UI}}}{{||~~\"\n",
        "# s = re.sub(r'[^\\w\\s]','', s)\n",
        "# s"
      ],
      "execution_count": 12,
      "outputs": [
        {
          "output_type": "execute_result",
          "data": {
            "application/vnd.google.colaboratory.intrinsic+json": {
              "type": "string"
            },
            "text/plain": [
              "'my name is jdbkgsUI'"
            ]
          },
          "metadata": {
            "tags": []
          },
          "execution_count": 12
        }
      ]
    },
    {
      "cell_type": "code",
      "metadata": {
        "id": "_X5tR5yyFcLA",
        "colab_type": "code",
        "colab": {}
      },
      "source": [
        "data = []\n",
        "for review in json_content:\n",
        "    for sent in review.split(\".\"):\n",
        "        if sent.strip():\n",
        "            sent = re.sub(r'[^\\w\\s]', '', sent.strip().lower())\n",
        "            sent = [token for token in sent.split() if token.isalpha()]\n",
        "            data.append(sent)\n",
        "        \n",
        "data"
      ],
      "execution_count": null,
      "outputs": []
    },
    {
      "cell_type": "code",
      "metadata": {
        "id": "uS64JnYMFdNH",
        "colab_type": "code",
        "colab": {
          "base_uri": "https://localhost:8080/",
          "height": 34
        },
        "outputId": "40543446-57b7-4f68-cadd-eac136836fbc"
      },
      "source": [
        "from collections import defaultdict\n",
        "\n",
        "freq_old = defaultdict(int)\n",
        "\n",
        "def getfrequencies(data):\n",
        "    for sent in data:\n",
        "         for token in sent:\n",
        "            freq_old[token] += 1\n",
        "        \n",
        "getfrequencies(data)\n",
        "\n",
        "freq = defaultdict(int)\n",
        "\n",
        "def remove_less_frequent(data):\n",
        "    for sent in data:\n",
        "        for token in sent:\n",
        "            if freq_old[token] > 5:\n",
        "                freq[token] = freq_old[token]\n",
        "    \n",
        "remove_less_frequent(data)\n",
        "\n",
        "number_of_tokens = 0\n",
        "for sent in data:\n",
        "    number_of_tokens += len(sent)\n",
        "print(\"Number of tokens:\", number_of_tokens)\n",
        "\n",
        "# data"
      ],
      "execution_count": 14,
      "outputs": [
        {
          "output_type": "stream",
          "text": [
            "Number of tokens: 2053535\n"
          ],
          "name": "stdout"
        }
      ]
    },
    {
      "cell_type": "code",
      "metadata": {
        "id": "KXyNsrocFeix",
        "colab_type": "code",
        "colab": {}
      },
      "source": [
        "data[:5]"
      ],
      "execution_count": null,
      "outputs": []
    },
    {
      "cell_type": "code",
      "metadata": {
        "id": "Ir1R9TC1OrSO",
        "colab_type": "code",
        "colab": {}
      },
      "source": [
        "def get_dict(data):\n",
        "    words = sorted(list(freq.keys()))\n",
        "    \n",
        "    n = len(words)\n",
        "    idx = 0\n",
        "    word2Ind = {}\n",
        "    Ind2word = {}\n",
        "    for k in words:\n",
        "        word2Ind[k] = idx\n",
        "        Ind2word[idx] = k\n",
        "        idx += 1\n",
        "    return word2Ind, Ind2word\n",
        "\n",
        "word2Ind, Ind2word = get_dict(data)"
      ],
      "execution_count": 16,
      "outputs": []
    },
    {
      "cell_type": "code",
      "metadata": {
        "id": "lk3rfj3OPHEA",
        "colab_type": "code",
        "colab": {
          "base_uri": "https://localhost:8080/",
          "height": 50
        },
        "outputId": "3b14b16b-0a38-4055-affd-ca2e29fb5096"
      },
      "source": [
        "def get_probs(data):\n",
        "    wordProbs = np.zeros(len(freq.keys()))\n",
        "    for token in freq.keys():\n",
        "        wordProbs[word2Ind[token]] = freq[token] ** (3/4)\n",
        "\n",
        "    denominator = wordProbs.sum()\n",
        "    wordProbs /= denominator\n",
        "\n",
        "    return wordProbs\n",
        "\n",
        "wordProbs = get_probs(data)\n",
        "wordProbs"
      ],
      "execution_count": 17,
      "outputs": [
        {
          "output_type": "execute_result",
          "data": {
            "text/plain": [
              "array([1.14488717e-02, 1.53770583e-04, 6.74578229e-05, ...,\n",
              "       4.30828414e-05, 6.40560130e-05, 2.14228081e-05])"
            ]
          },
          "metadata": {
            "tags": []
          },
          "execution_count": 17
        }
      ]
    },
    {
      "cell_type": "code",
      "metadata": {
        "id": "EEcNe-QLUuOL",
        "colab_type": "code",
        "colab": {}
      },
      "source": [
        "def get_context(sent, center, C, word2Ind):\n",
        "    context = []\n",
        "    len_sent = len(sent)\n",
        "\n",
        "    for i in range(2):\n",
        "        if not i:\n",
        "            for j in range(C):\n",
        "                # print(center, j)\n",
        "                if center - 1 - j >= 0:\n",
        "                    if sent[center - 1 - j] in word2Ind:\n",
        "                        context.append(word2Ind[sent[center - 1 - j]])\n",
        "            \n",
        "\n",
        "        else:\n",
        "            for j in range(C):\n",
        "                if center + 1 + j < len_sent:\n",
        "                    if sent[center + 1 + j] in word2Ind:\n",
        "                        context.append(word2Ind[sent[center + 1 + j]])\n",
        "    \n",
        "    return list(set(context))"
      ],
      "execution_count": 52,
      "outputs": []
    },
    {
      "cell_type": "code",
      "metadata": {
        "id": "r5pSsUzgTjvG",
        "colab_type": "code",
        "colab": {}
      },
      "source": [
        "def initialize_model(N, V):\n",
        "  \n",
        "    W1 = np.random.randn(V, N)\n",
        "    W2 = np.random.randn(N, V)\n",
        "    # b1 = np.random.randn(V, 1)\n",
        "    # b2 = np.random.randn(N, 1)\n",
        "\n",
        "    # return W1, W2, b1, b2\n",
        "    return W1, W2"
      ],
      "execution_count": 18,
      "outputs": []
    },
    {
      "cell_type": "code",
      "metadata": {
        "id": "U8WTZUwRYF5O",
        "colab_type": "code",
        "colab": {}
      },
      "source": [
        "def forward_prop(x, t, W1, W2):\n",
        "    h = W1[x]\n",
        "    z = sigmoid(np.dot(h, W2[:, t]))\n",
        "    \n",
        "    return z, h"
      ],
      "execution_count": 23,
      "outputs": []
    },
    {
      "cell_type": "code",
      "metadata": {
        "id": "cHfgp8lGXvh9",
        "colab_type": "code",
        "colab": {}
      },
      "source": [
        "def back_prop(z, h, t, context, W2):\n",
        "    y = np.zeros(len(t))\n",
        "    for i in range(len(context)):\n",
        "        y[i] = 1\n",
        "    \n",
        "    e = z - y\n",
        "\n",
        "    dW1 = np.dot(e, W2[:, t].T)\n",
        "    dW2 = np.outer(e, h)\n",
        "\n",
        "    return dW1, dW2, y"
      ],
      "execution_count": 47,
      "outputs": []
    },
    {
      "cell_type": "code",
      "metadata": {
        "id": "p5SGqYdbZ47g",
        "colab_type": "code",
        "colab": {}
      },
      "source": [
        "def compute_cost(y, yhat):\n",
        "    eps = 1e-10\n",
        "    logprobs = y * np.log(yhat + eps) + (1 - y) * np.log(1 - yhat + eps)\n",
        "    cost = -np.sum(logprobs)\n",
        "    cost = np.squeeze(cost)\n",
        "    return cost"
      ],
      "execution_count": 25,
      "outputs": []
    },
    {
      "cell_type": "code",
      "metadata": {
        "id": "9rzluyAyFtJy",
        "colab_type": "code",
        "colab": {}
      },
      "source": [
        "costs = []\n",
        "\n",
        "def gradient_descent(data, N, V, num_epochs, C, word2Ind, NS_size, wordProbs, alpha):\n",
        "    global costs\n",
        "\n",
        "    random.shuffle(data)\n",
        "    W1, W2 = initialize_model(N, V)\n",
        "\n",
        "    max_sent = len(data)\n",
        "\n",
        "    for epoch in range(num_epochs):\n",
        "        total_cost = 0\n",
        "        div = 0\n",
        "        ss = 0\n",
        "        \n",
        "        for sent in data:\n",
        "            for index in np.random.permutation(np.arange(len(sent))):\n",
        "                if sent[index] in word2Ind:\n",
        "                    center = word2Ind[sent[index]]\n",
        "                    context = get_context(sent, index, C, word2Ind)\n",
        "\n",
        "                    if len(context) > 0:\n",
        "                        NS = np.random.choice(V, size = NS_size, p = wordProbs)\n",
        "                        t = context.copy()\n",
        "\n",
        "                        for ns in NS:\n",
        "                            t.append(ns)\n",
        "\n",
        "                        t = np.array(t)\n",
        "\n",
        "                        z, h = forward_prop(center, t, W1, W2)\n",
        "                        dW1, dW2, y = back_prop(z, h, t, context, W2)\n",
        "                        cost = compute_cost(y, z)\n",
        "                        print(cost)\n",
        "                        total_cost += cost\n",
        "                        div += 1\n",
        "\n",
        "                        W1 -= alpha * dW1\n",
        "                        W2 = W2.T\n",
        "                        for ind in range(len(t)):\n",
        "                            W2[t[ind]] -= alpha * dW2[ind]\n",
        "                        W2 = W2.T\n",
        "\n",
        "            ss += 1\n",
        "            if ss % 1000 == 1:\n",
        "                  print(max_sent - ss)\n",
        "        \n",
        "        alpha *= (0.66)\n",
        "        costs.append(total_cost/div)\n",
        "        print(total_cost/div)\n",
        "        print()\n",
        "        print()\n",
        "        print()\n",
        "        print()\n",
        "        print()\n",
        "        print()\n",
        "        print()\n",
        "\n",
        "\n",
        "\n",
        "    plt.plot(costs)\n",
        "    plt.show()\n",
        "\n",
        "\n",
        "            \n",
        "    return W1, W2"
      ],
      "execution_count": 2,
      "outputs": []
    },
    {
      "cell_type": "code",
      "metadata": {
        "id": "kcSiaMsff4UG",
        "colab_type": "code",
        "colab": {}
      },
      "source": [
        "N = 100\n",
        "num_epochs = 2\n",
        "C = 3\n",
        "NS_size = 10\n",
        "\n",
        "W1, W2 = gradient_descent(data, N, len(freq), num_epochs, C, word2Ind, NS_size, wordProbs, 0.03)"
      ],
      "execution_count": null,
      "outputs": []
    },
    {
      "cell_type": "code",
      "metadata": {
        "id": "Subv8IVKgG1h",
        "colab_type": "code",
        "colab": {}
      },
      "source": [
        ""
      ],
      "execution_count": null,
      "outputs": []
    }
  ]
}